{
 "cells": [
  {
   "cell_type": "code",
   "execution_count": 2,
   "metadata": {},
   "outputs": [
    {
     "name": "stdout",
     "output_type": "stream",
     "text": [
      "enter your guess number4\n",
      "Closer!\n",
      "enter your guess number5\n",
      "Closer!\n",
      "enter your guess number8\n",
      "you have guessed correctly!\n",
      "Number of Tries is : 3\n"
     ]
    }
   ],
   "source": [
    "\n",
    "from random import randint\n",
    "randint (0,101)\n",
    "in_value=8\n",
    "lst=[0]\n",
    "while True:\n",
    "    guess=int(input('enter your guess number'))\n",
    "    counter=len(lst)\n",
    "    \n",
    "    lst.append(guess)\n",
    "    \n",
    "    if 0<guess<101 :\n",
    "        \n",
    "        if guess!= in_value:\n",
    "            \n",
    "            if abs(in_value - lst[-1])> abs(in_value-lst[-2]):\n",
    "                print ('Farther!')\n",
    "            elif abs(in_value - lst[-1])< abs(in_value-lst[-2]):\n",
    "                print ('Closer!')              \n",
    "             \n",
    "        else:\n",
    "            print ('you have guessed correctly!')\n",
    "            print('Number of Tries is : ' + str(counter))\n",
    "            break\n",
    "        \n",
    "    else:\n",
    "        print ('out of range')\n",
    "        \n",
    "    \n",
    "  "
   ]
  },
  {
   "cell_type": "code",
   "execution_count": null,
   "metadata": {},
   "outputs": [],
   "source": []
  },
  {
   "cell_type": "code",
   "execution_count": null,
   "metadata": {},
   "outputs": [],
   "source": [
    "\n"
   ]
  },
  {
   "cell_type": "code",
   "execution_count": null,
   "metadata": {},
   "outputs": [],
   "source": []
  }
 ],
 "metadata": {
  "kernelspec": {
   "display_name": "Python 3",
   "language": "python",
   "name": "python3"
  },
  "language_info": {
   "codemirror_mode": {
    "name": "ipython",
    "version": 3
   },
   "file_extension": ".py",
   "mimetype": "text/x-python",
   "name": "python",
   "nbconvert_exporter": "python",
   "pygments_lexer": "ipython3",
   "version": "3.7.4"
  }
 },
 "nbformat": 4,
 "nbformat_minor": 2
}
